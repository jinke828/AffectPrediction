{
 "cells": [
  {
   "cell_type": "code",
   "execution_count": 1,
   "id": "5f74692c-0362-4645-912a-e7fe2099965d",
   "metadata": {},
   "outputs": [],
   "source": [
    "import numpy as np\n",
    "import pandas as pd\n",
    "import os\n",
    "import mat73\n",
    "from sklearn import svm\n",
    "from sklearn import metrics\n",
    "import scipy.io\n",
    "from scipy import stats\n",
    "import matplotlib.pyplot as plt\n",
    "from scipy import stats, linalg\n",
    "import warnings\n",
    "import joblib\n",
    "\n",
    "from sklearn.exceptions import ConvergenceWarning\n",
    "def conv_r2z(r):\n",
    "    with np.errstate(invalid='ignore', divide='ignore'):\n",
    "        return 0.5 * (np.log(1 + r) - np.log(1 - r))\n",
    "def conv_z2r(z):\n",
    "    with np.errstate(invalid='ignore', divide='ignore'):\n",
    "        return (np.exp(2 * z) - 1) / (np.exp(2 * z) + 1)"
   ]
  },
  {
   "cell_type": "markdown",
   "id": "14593b60-ba3a-4e65-9b74-c5e3dd8a00dc",
   "metadata": {},
   "source": [
    "# load the arousal SVR"
   ]
  },
  {
   "cell_type": "code",
   "execution_count": 2,
   "id": "c12be0f4-5931-43d4-925f-fdab8d4d4808",
   "metadata": {},
   "outputs": [
    {
     "name": "stdout",
     "output_type": "stream",
     "text": [
      "Model loaded successfully!\n"
     ]
    }
   ],
   "source": [
    "# Load the model (optional if you just saved it)\n",
    "clf = joblib.load('./svr_model.pkl')\n",
    "print('Model loaded successfully!')"
   ]
  },
  {
   "cell_type": "code",
   "execution_count": 3,
   "id": "b4ff59b3-29bc-4a7b-a652-7a452304194e",
   "metadata": {},
   "outputs": [
    {
     "name": "stdout",
     "output_type": "stream",
     "text": [
      "Arousal network loaded. It has 237 FC features\n"
     ]
    }
   ],
   "source": [
    "# load the arousal network\n",
    "arousal_network = scipy.io.loadmat('./arousal_network.mat')['arousal_network']\n",
    "\n",
    "# load the feature ids\n",
    "nR = 122 # the Yeo 114 atlas for cortical regions + Brainnectome atlas for subcortical\n",
    "feat_id = []\n",
    "ii = -1\n",
    "for i in range(nR-1):\n",
    "    for j in range(i+1,nR):\n",
    "        ii = ii + 1\n",
    "        if arousal_network[i,j] != 0: # this includes both positive and negative features\n",
    "            feat_id.append(ii)\n",
    "feat_id = np.array(feat_id)\n",
    "print('Arousal network loaded. It has',len(feat_id),'FC features')"
   ]
  },
  {
   "cell_type": "markdown",
   "id": "a7cc3212-48ad-4bbb-b4bd-59224006b200",
   "metadata": {},
   "source": [
    "# load your own testing data -- e.g., Merlin"
   ]
  },
  {
   "cell_type": "code",
   "execution_count": 4,
   "id": "9509395c-fe24-41a4-b3fe-c16523346456",
   "metadata": {},
   "outputs": [
    {
     "name": "stdout",
     "output_type": "stream",
     "text": [
      "  model learn: brain entire feature shape (18, 237, 980)\n"
     ]
    }
   ],
   "source": [
    "# load brain -- e.g., Merlin https://openneuro.org/datasets/ds001110/versions/00003\n",
    "# your brain data needs to be parcellated using the Yeo atlas (thus 7381 FCs)\n",
    "# the format of the brain data should be nsubj*nFC*nTR\n",
    "\n",
    "brain_merlin = mat73.loadmat('../../data/brain/' + 'merlin' + '/a_output/FC/sliding-dynFeat.mat')['dynFeat']\n",
    "brain_merlin = scipy.stats.zscore(brain_merlin,2,nan_policy='omit') # zscore per feature\n",
    "dynFC_test = brain_merlin[:,feat_id,16:] # remove the first 16 TRs to match the movie\n",
    "print('  model learn: brain entire feature shape '+str(dynFC_test.shape))"
   ]
  },
  {
   "cell_type": "code",
   "execution_count": 5,
   "id": "e97431e0-cdbb-400e-9379-442fc3d514d0",
   "metadata": {},
   "outputs": [
    {
     "name": "stdout",
     "output_type": "stream",
     "text": [
      "model learn: merlin arousal shape(980,)\n"
     ]
    }
   ],
   "source": [
    "# load behavioral ratings to test the model (optional)\n",
    "arousal_merlin = scipy.io.loadmat('../../data/beh/preprocessed/group_average/conv_slidingBeh/Merlin_arousal.mat')['sliding_beh']\n",
    "arousal_merlin = np.squeeze(arousal_merlin)\n",
    "print('model learn: merlin arousal shape' + str(arousal_merlin.shape))"
   ]
  },
  {
   "cell_type": "code",
   "execution_count": 6,
   "id": "6239cb81-a4e4-4dff-90a5-57d29a579d8e",
   "metadata": {},
   "outputs": [
    {
     "name": "stdout",
     "output_type": "stream",
     "text": [
      "NaN = []\n",
      "Number of nans in selected FC: 0\n",
      "DynFC_test Shape: (18, 237, 980)\n"
     ]
    }
   ],
   "source": [
    "# check for any missing TRs\n",
    "nanidx = []\n",
    "for subj in range(dynFC_test.shape[0]):\n",
    "    for ft in range(dynFC_test.shape[1]):\n",
    "        if np.any(np.isnan(dynFC_test[subj,ft,:])):\n",
    "            nanidx.append(ft)\n",
    "\n",
    "nanidx = np.unique(nanidx)\n",
    "print('NaN = '+str(nanidx))\n",
    "\n",
    "if len(nanidx)>0:\n",
    "    dynFC_test = np.delete(dynFC_test,nanidx,1)\n",
    "\n",
    "print('Number of nans in selected FC: '+str(len(nanidx)))\n",
    "print('DynFC_test Shape: '+str(dynFC_test.shape))"
   ]
  },
  {
   "cell_type": "markdown",
   "id": "0b650dc6-0a46-4189-96a2-90e6aa931fdd",
   "metadata": {},
   "source": [
    "# apply the model to predict arousal in the new dataset"
   ]
  },
  {
   "cell_type": "code",
   "execution_count": 7,
   "id": "dfa319d6-de6e-44a5-82b5-e59922514ca6",
   "metadata": {},
   "outputs": [
    {
     "name": "stdout",
     "output_type": "stream",
     "text": [
      " subj 1 / 18: pearson r=-0.023 , mse=1.128, rsq=-0.129\n",
      " subj 2 / 18: pearson r=0.295 , mse=0.934, rsq=0.065\n",
      " subj 3 / 18: pearson r=0.448 , mse=0.815, rsq=0.184\n",
      " subj 4 / 18: pearson r=0.089 , mse=1.085, rsq=-0.086\n",
      " subj 5 / 18: pearson r=0.205 , mse=1.005, rsq=-0.006\n",
      " subj 6 / 18: pearson r=0.098 , mse=1.068, rsq=-0.069\n",
      " subj 7 / 18: pearson r=-0.027 , mse=1.174, rsq=-0.175\n",
      " subj 8 / 18: pearson r=0.23 , mse=0.988, rsq=0.011\n",
      " subj 9 / 18: pearson r=0.44 , mse=0.824, rsq=0.175\n",
      " subj 10 / 18: pearson r=0.1 , mse=1.045, rsq=-0.046\n",
      " subj 11 / 18: pearson r=0.382 , mse=0.878, rsq=0.121\n",
      " subj 12 / 18: pearson r=0.128 , mse=1.065, rsq=-0.066\n",
      " subj 13 / 18: pearson r=0.302 , mse=0.92, rsq=0.079\n",
      " subj 14 / 18: pearson r=0.251 , mse=0.949, rsq=0.05\n",
      " subj 15 / 18: pearson r=0.243 , mse=0.991, rsq=0.008\n",
      " subj 16 / 18: pearson r=0.332 , mse=0.895, rsq=0.104\n",
      " subj 17 / 18: pearson r=0.491 , mse=0.778, rsq=0.221\n",
      " subj 18 / 18: pearson r=0.046 , mse=1.115, rsq=-0.116\n"
     ]
    }
   ],
   "source": [
    "test_nsubj = 18\n",
    "output_acc, output_eval = [], []\n",
    "for test_sub in range(test_nsubj):\n",
    "    test_feat = dynFC_test[test_sub, :, :]\n",
    "    test_behavior = arousal_merlin\n",
    "    \n",
    "    rmtr_test = []\n",
    "    for tm in range(test_feat.shape[1]):\n",
    "        if np.all(np.isnan(test_feat[:, tm])):\n",
    "            rmtr_test.append(tm)\n",
    "    rmtr_test = np.asarray(rmtr_test)\n",
    "    if len(rmtr_test) > 0:\n",
    "        test_feat = np.delete(test_feat, rmtr_test, 1)\n",
    "        test_behavior = np.delete(test_behavior, rmtr_test, 0)\n",
    "    \n",
    "    predicted = clf.predict(test_feat.T)\n",
    "    output_acc.append(predicted)\n",
    "    \n",
    "    # evaluate\n",
    "    pearsonr = scipy.stats.pearsonr(test_behavior, predicted)\n",
    "    mse = metrics.mean_squared_error(test_behavior, predicted)\n",
    "    rsq = metrics.r2_score(test_behavior, predicted)\n",
    "    output_eval.append([pearsonr[0], mse, rsq])\n",
    "    \n",
    "    print(' subj ' + str(test_sub + 1) + ' / ' + str(test_nsubj) + ': pearson r=' + str(\n",
    "            np.round(pearsonr[0], 3)), ', mse=' + str(np.round(mse, 3)) + ', rsq=' + str(np.round(rsq, 3)))\n",
    "    \n",
    "output_acc, output_eval = np.asarray(output_acc), np.asarray(output_eval)"
   ]
  },
  {
   "cell_type": "code",
   "execution_count": 8,
   "id": "c65d143b-6fe4-4d36-b23a-9148baf14404",
   "metadata": {},
   "outputs": [
    {
     "name": "stdout",
     "output_type": "stream",
     "text": [
      " pearson r = 0.23\n",
      " MSE       = 0.981\n",
      " r-squared = 0.018\n"
     ]
    },
    {
     "data": {
      "image/png": "[encoded data removed]",
      "text/plain": [
       "<Figure size 640x480 with 3 Axes>"
      ]
     },
     "metadata": {},
     "output_type": "display_data"
    }
   ],
   "source": [
    "fig, axs = plt.subplots(1,3)\n",
    "axs[0].hist(output_eval[:,0])\n",
    "axs[0].set_title('Pearson correlation')\n",
    "axs[1].hist(output_eval[:,1])\n",
    "axs[1].set_title('MSE')\n",
    "axs[2].hist(output_eval[:,2])\n",
    "axs[2].set_title('r-squared')\n",
    "\n",
    "print(' pearson r = '+str(np.round(conv_z2r(np.mean(conv_r2z(output_eval[:,0]))),3)))\n",
    "print(' MSE       = '+str(np.round(np.mean(output_eval[:,1]),3)))\n",
    "print(' r-squared = '+str(np.round(np.mean(output_eval[:,2]),3)))"
   ]
  }
 ],
 "metadata": {
  "kernelspec": {
   "display_name": "Python 3 (ipykernel)",
   "language": "python",
   "name": "python3"
  },
  "language_info": {
   "codemirror_mode": {
    "name": "ipython",
    "version": 3
   },
   "file_extension": ".py",
   "mimetype": "text/x-python",
   "name": "python",
   "nbconvert_exporter": "python",
   "pygments_lexer": "ipython3",
   "version": "3.11.7"
  }
 },
 "nbformat": 4,
 "nbformat_minor": 5
}
